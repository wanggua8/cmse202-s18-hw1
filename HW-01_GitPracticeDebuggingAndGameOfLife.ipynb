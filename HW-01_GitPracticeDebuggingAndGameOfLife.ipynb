{
 "cells": [
  {
   "cell_type": "markdown",
   "metadata": {},
   "source": [
    "### <p style=\"text-align: right;\"> &#9989; Guangran Wang</p>"
   ]
  },
  {
   "cell_type": "markdown",
   "metadata": {},
   "source": [
    "# Homework Assignment #1 (Individual)\n",
    "## Git Practice, Debugging Practice, and Modeling Conway's Game of Life\n",
    "\n",
    "<img src=\"https://upload.wikimedia.org/wikipedia/commons/e/e5/Gospers_glider_gun.gif\", width= 300><p style=\"text-align: right;\">\n",
    "</p>"
   ]
  },
  {
   "cell_type": "markdown",
   "metadata": {},
   "source": [
    "### Goals for this homework assignment\n",
    "By the end of this assignment, you should be able to:\n",
    "* Use Git to create a repository, track changes to the files within the repository, and push those changes to a remote repository.\n",
    "* Debug code and implement exception handling in Python.\n",
    "* Work with Python data structures (e.g. lists and numpy arrays) to create a simple agent-based model.\n",
    "* Make plots of your model using <code>matplotlib</code>.\n",
    "\n",
    "### Assignment instructions\n",
    "\n",
    "Work through the following assignment, making sure to follow all of the directions and answer all of the questions.\n",
    "\n",
    "**This assignment is due roughly two weeks from now at 11:59pm on Friday, January 26th.** It should be uploaded into the \"Homework Assignments\" dropbox folder for Homework #1.  Submission instructions can be found at the end of the notebook.\n",
    "\n",
    "### Grading\n",
    "\n",
    "1. Part 1: Setting and managing a Git repository (5 points)\n",
    "2. Part 2: Debugging code and exception handling (8 points)\n",
    "3. Part 3: Conway's Game of Life (12 points)\n",
    "\n",
    "Total points: **25**"
   ]
  },
  {
   "cell_type": "markdown",
   "metadata": {},
   "source": [
    "---\n",
    "## Part 1: Setting up a git repository to track your progress on your assignment (5 points)\n",
    "\n",
    "For this assignment, you're going to create a Git repository on GitHub so that you can track your progress on the assignment and preserve the final version that you turn in. In order to do this you need to:\n",
    "\n",
    "1. Set up a new *private* repository on https://github.com/ called \"cmse202-s18-hw1\".\n",
    "2. Add your Professor and your TA as collaborators with \"Read\" access to your repository so that we can see your assignment. For Section 001, you should add users \"devinsilvia\" and \"haoyunin\". For Section 002, you should add users \"yangy5\" and \"haoyunin\".\n",
    "3. Clone the repository on to your computer.\n",
    "4. Move this notebook into that newly cloned repository.\n",
    "5. Add the notebook file to your git repository.\n",
    "6. Commit the addition to your repository.\n",
    "7. Finally, to test that everything is working, \"git push\" the file so that it ends up in your GitHub repository.\n",
    "\n",
    "If everything went as intended, the file should now show up on your GitHub account in the \"cmse202-hw1\" repository that you just created.  Periodically, you'll be asked to commit your changes to the repository and push them to the remote GitHub location. Of course, you can always commit your changes more often than that, if you wish.  It can be good to get into a habit of committing your changes any time you make a significant modification, or when you stop working on the project for a bit."
   ]
  },
  {
   "cell_type": "markdown",
   "metadata": {},
   "source": [
    "---\n",
    "\n",
    "---\n",
    "\n",
    "## Part 2: Debugging code: understanding error messages and exception handling (8 points)\n",
    "\n",
    "For the next part of this assignment, you're going to presented with a variety of code bugs and your job is to fix them. You'll also be asked to set up a bit of code that makes use of exception handling in Python."
   ]
  },
  {
   "cell_type": "markdown",
   "metadata": {},
   "source": [
    "### 2.1 Fixing errors (6 points)\n",
    "\n",
    "**Homework Task 1**: Resolve the errors in the following pieces of code and add a comment that explains what was wrong in the first place."
   ]
  },
  {
   "cell_type": "code",
   "execution_count": 11,
   "metadata": {
    "scrolled": true
   },
   "outputs": [
    {
     "name": "stdout",
     "output_type": "stream",
     "text": [
      "The value of i is 0\n",
      "The value of i is 1\n",
      "The value of i is 2\n",
      "The value of i is 3\n",
      "The value of i is 4\n",
      "The value of i is 5\n",
      "The value of i is 6\n",
      "The value of i is 7\n",
      "The value of i is 8\n",
      "The value of i is 9\n"
     ]
    }
   ],
   "source": [
    "for i in range(10):# lack of \":\"\n",
    "    print(\"The value of i is %i\"%i)"
   ]
  },
  {
   "cell_type": "code",
   "execution_count": 10,
   "metadata": {},
   "outputs": [
    {
     "name": "stdout",
     "output_type": "stream",
     "text": [
      "denominator can't be 0\n"
     ]
    }
   ],
   "source": [
    "def compute_fraction(numerator, denominator):\n",
    "    try:\n",
    "        fraction = numerator/denominator\n",
    "    except ZeroDivisionError:\n",
    "        print(\"denominator can't be 0\")\n",
    "        return \n",
    "    print(\"The value of the fraction is %f\" %fraction)\n",
    "''' add try, exception statement to check ZeroDivisionError '''\n",
    "    \n",
    "compute_fraction(5, 0)"
   ]
  },
  {
   "cell_type": "code",
   "execution_count": 15,
   "metadata": {},
   "outputs": [
    {
     "name": "stdout",
     "output_type": "stream",
     "text": [
      "denominator can't be string\n"
     ]
    }
   ],
   "source": [
    "def compute_fraction(numerator, denominator):\n",
    "    try:\n",
    "        fraction = numerator/denominator\n",
    "    except TypeError:\n",
    "        print(\"denominator can't be string\")\n",
    "        return \n",
    "    print(\"The value of the fraction is %f\" %fraction)\n",
    "''' add try, exception statement to check TypeError '''\n",
    "    \n",
    "compute_fraction(\"one\", 25)"
   ]
  },
  {
   "cell_type": "code",
   "execution_count": 20,
   "metadata": {},
   "outputs": [
    {
     "name": "stdout",
     "output_type": "stream",
     "text": [
      "The value of the 10th element is 9\n"
     ]
    }
   ],
   "source": [
    "import numpy as np\n",
    "\n",
    "n = np.arange(20)\n",
    "print(\"The value of the 10th element is %d\" %n[9])#should use\"[]\" instead of \"()\""
   ]
  },
  {
   "cell_type": "code",
   "execution_count": 2,
   "metadata": {},
   "outputs": [
    {
     "name": "stdout",
     "output_type": "stream",
     "text": [
      "1\n",
      "3\n",
      "5\n",
      "7\n",
      "9\n",
      "2\n",
      "4\n",
      "6\n",
      "8\n",
      "10\n"
     ]
    }
   ],
   "source": [
    "odd = [1, 3, 5, 7, 9]\n",
    "even = [2, 4, 6, 8, 10]\n",
    "\n",
    "for i in odd:\n",
    "    print(i)\n",
    "    \n",
    "for j in even:\n",
    "    print(j)"
   ]
  },
  {
   "cell_type": "code",
   "execution_count": 1,
   "metadata": {},
   "outputs": [
    {
     "name": "stdout",
     "output_type": "stream",
     "text": [
      "hola\n",
      "uno dos tres\n",
      "negro\n"
     ]
    }
   ],
   "source": [
    "spanish = dict()\n",
    "spanish['hello'] = 'hola'\n",
    "spanish['yes'] = 'si'\n",
    "spanish['one'] = 'uno'\n",
    "spanish['two'] = 'dos'\n",
    "spanish['three'] = 'tres'\n",
    "spanish['red'] = 'rojo'\n",
    "spanish['black'] = 'negro'\n",
    "spanish['green'] = 'verde'\n",
    "spanish['blue'] = 'azul'\n",
    "\n",
    "print(spanish[\"hello\"])\n",
    "print(spanish[\"one\"], spanish[\"two\"], spanish[\"three\"])\n",
    "print(spanish[\"black\"])"
   ]
  },
  {
   "cell_type": "markdown",
   "metadata": {},
   "source": [
    "---\n",
    "### STOP\n",
    "Take a moment to save your notebook, commit the changes to your Git repository using the commit message \"Finished Part 2.1\", and push the changes to GitHub.\n",
    "\n",
    "---"
   ]
  },
  {
   "cell_type": "markdown",
   "metadata": {},
   "source": [
    "### 2.2 Exception Handling (2 points)\n",
    "\n",
    "In the code below, you'll see an example of exception handling in Python. In the example, we have a function that creates a spanish translation dictionary using a Python dictionary object. Then, we ask the user what would they would like to know in spanish. That word is passed to the dictionary inside a \"try/except\" structure. If the word is in the dictionary, then the translation is printed, otherwise a message that the word is not found in the dictionary is printed. Try running the code! "
   ]
  },
  {
   "cell_type": "code",
   "execution_count": null,
   "metadata": {},
   "outputs": [],
   "source": [
    "def createDictionary():\n",
    "    '''Returns a tiny Spanish dictionary'''\n",
    "    spanish = dict()\n",
    "    spanish['hello'] = 'hola'\n",
    "    spanish['yes'] = 'si'\n",
    "    spanish['one'] = 'uno'\n",
    "    spanish['two'] = 'dos'\n",
    "    spanish['three'] = 'tres'\n",
    "    spanish['red'] = 'rojo'\n",
    "    spanish['black'] = 'negro'\n",
    "    spanish['green'] = 'verde'\n",
    "    spanish['blue'] = 'azul'\n",
    "    return spanish\n",
    "\n",
    "dictionary = createDictionary()\n",
    "\n",
    "user_input = input(\"What word do you what to know in spanish?  \")\n",
    "try:\n",
    "    translation = dictionary[user_input]\n",
    "    print(\"The spanish word is: %s\" %translation)\n",
    "except KeyError:\n",
    "    print(\"Oh, sorry, that word is not in this spanish dictionary. Try another one!\")"
   ]
  },
  {
   "cell_type": "markdown",
   "metadata": {},
   "source": [
    "** Homework Task 2**: Let's revisit our \"compute_fraction\" function that came up earlier in the debugging section. As we saw with the bug, if you try to divide by zero, or you feed the function something that isn't a number, you get an error.  Your job is to add a <code>try</code> and <code>except</code> structure that will handle these two cases gracefully and let the user know what was wrong with the values they fed into the function. The function is provided below and you need to add the <code>try</code> and <code>except</code> statements to catch the errors and explain what went wrong. If you get this set up correctly, the cell below should run without dumping any of the standard Python error messages."
   ]
  },
  {
   "cell_type": "code",
   "execution_count": 1,
   "metadata": {},
   "outputs": [
    {
     "name": "stdout",
     "output_type": "stream",
     "text": [
      "demonimator shouldn't be 0\n",
      "should input numbers\n",
      "The value of the fraction is %f 1.6666666666666667\n"
     ]
    }
   ],
   "source": [
    "def compute_fraction(numerator, denominator):\n",
    "    # Add your try and except statements to this function to handle the errors\n",
    "    try:\n",
    "        fraction = numerator/denominator\n",
    "        print(\"The value of the fraction is %f\" ,fraction)\n",
    "\n",
    "\n",
    "    except TypeError:\n",
    "        print(\"should input numbers\")\n",
    "    \n",
    "    except ZeroDivisionError:\n",
    "        print(\"demonimator shouldn't be 0\")\n",
    "        \n",
    "        \n",
    "compute_fraction(5,0)\n",
    "compute_fraction(\"five\",3)\n",
    "compute_fraction(5,3)"
   ]
  },
  {
   "cell_type": "code",
   "execution_count": null,
   "metadata": {},
   "outputs": [],
   "source": [
    "fffff"
   ]
  },
  {
   "cell_type": "markdown",
   "metadata": {},
   "source": [
    "---\n",
    "### STOP\n",
    "Take a moment to save your notebook, commit the changes to your Git repository using the commit message \"Finished Part 2.2\", and push the changes to GitHub.\n",
    "\n",
    "---"
   ]
  },
  {
   "cell_type": "markdown",
   "metadata": {},
   "source": [
    "---\n",
    "## Part 3: Modeling Conway's Game of Life (12 points)\n",
    "\n",
    "Some of you may heard of Conway's Game of Life and some of you may not have. Even if you haven't heard of it, it's possible that you've seen something like it before. For details regarding thie version of the \"Game of Life\", I encourage you to take a look at the Wikipedia entry [here](https://en.wikipedia.org/wiki/Conway%27s_Game_of_Life) to get a bit of background.\n",
    "\n",
    "Conway's Game of Life is essentially a very simple agent-based model.  We'll be working more with agent-based models in the future that are more complex, so this should give you a basic sense of how one might work. Basically, the Game of Life defines a set of results that define whether or not any given cell in a grid of cells lives or dies. The rules are as follows:\n",
    "\n",
    "1. Any living cell with less than two neighbors dies\n",
    "2. Any living cell with two or three neighbors lives to the next generation\n",
    "3. Any living cell with more than three neighbors dies\n",
    "4. Any dead cell with exactly three live neighbors becomes a live cell\n",
    "\n",
    "Given the simple nature of this model, we can basically just use a collection of \"1\"s and \"0\"s to represent living and dead cells respectively. We can then set up a two-dimensional grid of cells that represent out initial population. We consider the Game of Life a \"zero player\" game because once the initial conditions are set, the population evolves itself based on the rules above. In some case the entire grid might die off, or in other you might end up with persistent populations that oscillate, or even some populations that move across the board (sometimes called \"gliders\").\n",
    "\n",
    "**Homework Task 3**:\n",
    "\n",
    "Your job is to write a program that initializes a 10x10 grid of cells and then evolves the cells for a minimum of 10 iterations (you can run it for more, but don't get too carried away!). You should build your program such that it outputs the initial state and end state into the notebook, but you should also save the files to your respository using the <code>savefig()</code> function in <code>matplotlib</code>.\n",
    "\n",
    "To ensure that your code is working, start off by initializing a grid that matches Figure 1 below and then confirm that when you run your code for ten steps, it matches the end state in Figure 2. You can also use these images as a guide for how you might want to style your plots. Plots with traditional axes don't really make sense for something like this.\n",
    "\n",
    "Once you can reproduce the results, try starting with new initial configurations and see what sort of evolution you get. Include your favorite version in this notebook.\n",
    "\n",
    "Write your code in the cell below the figures!\n",
    "\n",
    "**Extra goal**: Be careful that you don't generate too many files, but if you're feeling ambitious, I encourage you to try generating an image for each iteration and then creating an animation of your evolving system -- this is *not required* for the assignment. In order to make the animation, you might have to do a bit of googling to figure out how animations work either within a notebook, or by processing the image files you create."
   ]
  },
  {
   "cell_type": "markdown",
   "metadata": {},
   "source": [
    "**Figure 1: The beginning**\n",
    "![The beginning](https://i.imgur.com/1zVx54l.png)\n",
    "\n",
    "**Figure 2: The end**\n",
    "![title](https://i.imgur.com/GuNtZWA.png)"
   ]
  },
  {
   "cell_type": "code",
   "execution_count": 2,
   "metadata": {},
   "outputs": [],
   "source": [
    "#\n",
    "# Put your code here!\n",
    "#\n",
    "%matplotlib inline\n",
    "from IPython.display import display, clear_output\n",
    "import time\n",
    "import numpy as np\n",
    "import matplotlib.pyplot as plt\n",
    "def plotgrid(myarray):\n",
    "    x_range = np.linspace(0,myarray.shape[0],myarray.shape[0])\n",
    "    y_range = np.linspace(0,myarray.shape[1],myarray.shape[1])\n",
    "    x_indexes, y_indexes = np.meshgrid(x_range,y_range)\n",
    "    x=x_indexes[myarray==1]\n",
    "    y=y_indexes[myarray==1]\n",
    "    #plt.grid(10)\n",
    "    plt.plot(x,y,'s',markersize=27)\n",
    "    plt.ylim([-0.5,myarray.shape[0]+0.5])\n",
    "    plt.xlim([-0.5,myarray.shape[0]+0.5])\n",
    "\n",
    "         "
   ]
  },
  {
   "cell_type": "code",
   "execution_count": 12,
   "metadata": {},
   "outputs": [
    {
     "data": {
      "image/png": "[encoded data removed]",
      "text/plain": [
       "<matplotlib.figure.Figure at 0x1154ac278>"
      ]
     },
     "metadata": {},
     "output_type": "display_data"
    }
   ],
   "source": [
    "myarray = np.zeros((10,10))\n",
    "myarray[9][2]=1\n",
    "myarray[8][3]=1\n",
    "myarray[7][1]=1\n",
    "myarray[7][2]=1\n",
    "myarray[7][3]=1\n",
    "myarray[2][7]=1\n",
    "myarray[2][8]=1\n",
    "myarray[1][7]=1\n",
    "myarray[1][8]=1\n",
    "fig = plt.figure(figsize=(5,5))\n",
    "plotgrid(myarray)\n",
    "\n",
    "\n"
   ]
  },
  {
   "cell_type": "code",
   "execution_count": 10,
   "metadata": {},
   "outputs": [
    {
     "data": {
      "image/png": "[encoded data removed]",
      "text/plain": [
       "<matplotlib.figure.Figure at 0x1153896a0>"
      ]
     },
     "metadata": {},
     "output_type": "display_data"
    }
   ],
   "source": [
    "fig = plt.figure(figsize=(5.5,5.5))\n",
    "for mm in range(10):\n",
    "    plotgrid(myarray)\n",
    "    time.sleep(3)\n",
    "    clear_output(wait=True)\n",
    "    display(fig)\n",
    "    fig.clear()\n",
    "    for i in range(10):\n",
    "        for j in range(10):\n",
    "            if (i==0 and j!=0 and j!=9):\n",
    "                if(myarray[i][j] == 1 and myarray[i+1][j]+myarray[i][j+1]+myarray[i][j-1]+myarray[i+1][j+1]+myarray[i+1][j-1]>3) or (myarray[i][j] ==1 and myarray[i+1][j]+myarray[i][j+1]+myarray[i][j-1]+myarray[i+1][j+1]+myarray[i+1][j-1]<2):\n",
    "                    myarray[i][j] = 0\n",
    "                if myarray[i][j] == 0 and myarray[i+1][j]+myarray[i][j+1]+myarray[i][j-1]+myarray[i+1][j+1]+myarray[i+1][j-1] == 3:\n",
    "                    myarray[i][j] = 1\n",
    "            elif (i==9 and j!=0 and j!=9):\n",
    "                if(myarray[i][j] == 1 and myarray[i-1][j]+myarray[i][j+1]+myarray[i][j-1]+myarray[i-1][j+1]+myarray[i-1][j-1]>3) or (myarray[i][j] ==1 and myarray[i-1][j]+myarray[i][j+1]+myarray[i][j-1]+myarray[i-1][j+1]+myarray[i-1][j-1]<2):\n",
    "                    myarray[i][j] = 0\n",
    "                if myarray[i][j] == 0 and myarray[i-1][j]+myarray[i][j+1]+myarray[i][j-1]+myarray[i-1][j+1]+myarray[i-1][j-1] == 3:\n",
    "                    myarray[i][j] = 1\n",
    "            elif (j==0 and i!=0 and i!=9):\n",
    "                if(myarray[i][j] == 1 and myarray[i+1][j]+myarray[i][j+1]+myarray[i-1][j]+myarray[i-1][j+1]+myarray[i+1][j+1]>3) or (myarray[i][j] ==1 and myarray[i+1][j]+myarray[i][j+1]+myarray[i-1][j]+myarray[i-1][j+1]+myarray[i+1][j+1]<2):\n",
    "                    myarray[i][j] = 0\n",
    "                if myarray[i][j] == 0 and myarray[i+1][j]+myarray[i][j+1]+myarray[i-1][j]+myarray[i-1][j+1]+myarray[i+1][j+1] == 3:\n",
    "                    myarray[i][j] = 1\n",
    "            elif (j==9 and i!=0 and i!=9):\n",
    "                if(myarray[i][j] == 1 and myarray[i+1][j]+myarray[i-1][j]+myarray[i][j-1]+myarray[i+1][j-1]+myarray[i-1][j-1]>3) or (myarray[i][j] ==1 and myarray[i+1][j]+myarray[i-1][j]+myarray[i][j-1]+myarray[i+1][j-1]+myarray[i-1][j-1]<2):\n",
    "                    myarray[i][j] = 0\n",
    "                if myarray[i][j] == 0 and myarray[i+1][j]+myarray[i-1][j]+myarray[i][j-1]+myarray[i+1][j-1]+myarray[i-1][j-1] == 3:\n",
    "                    myarray[i][j] = 1\n",
    "            elif (i==0 and j==0):\n",
    "                if(myarray[i][j] == 1 and myarray[i+1][j]+myarray[i][j+1]+myarray[i+1][j+1]>3) or (myarray[i][j] ==1 and myarray[i+1][j]+myarray[i][j+1]+myarray[i+1][j+1] < 2):\n",
    "                    myarray[i][j] = 0\n",
    "                if myarray[i][j] == 0 and myarray[i+1][j]+myarray[i][j+1]+myarray[i+1][j+1] == 3:\n",
    "                    myarray[i][j] = 1\n",
    "            elif (i==0 and j==9):\n",
    "                if(myarray[i][j] == 1 and myarray[i+1][j]+myarray[i][j-1]+myarray[i+1][j-1]>3) or (myarray[i][j] ==1 and myarray[i+1][j]+myarray[i][j-1]+myarray[i+1][j-1]<2):\n",
    "                    myarray[i][j] = 0\n",
    "                if myarray[i][j] == 0 and myarray[i+1][j]+myarray[i][j-1]+myarray[i+1][j-1] == 3:\n",
    "                    myarray[i][j] = 1\n",
    "            elif (i==9 and j==0):\n",
    "                if(myarray[i][j] == 1 and myarray[i][j+1]+myarray[i-1][j+1]+myarray[i-1][j]>3) or (myarray[i][j] ==1 and myarray[i][j+1]+myarray[i-1][j+1]+myarray[i-1][j]<2):\n",
    "                    myarray[i][j] = 0\n",
    "                if myarray[i][j] == 0 and myarray[i][j+1]+myarray[i-1][j+1]+myarray[i-1][j] == 3:\n",
    "                    myarray[i][j] = 1\n",
    "            elif (i==9 and j==9):\n",
    "                if(myarray[i][j] == 1 and myarray[i][j-1]+myarray[i-1][j-1]+myarray[i-1][j]>3) or (myarray[i][j] ==1 and myarray[i][j-1]+myarray[i-1][j-1]+myarray[i-1][j]<2):\n",
    "                    myarray[i][j] = 0\n",
    "                if myarray[i][j] == 0 and myarray[i][j-1]+myarray[i-1][j-1]+myarray[i-1][j] == 3:\n",
    "                    myarray[i][j] = 1\n",
    "            elif (i!=0 and i!=9 and j!=0 and j!=9):\n",
    "                \n",
    "                if(myarray[i][j] == 1 and myarray[i+1][j]+myarray[i][j+1]+myarray[i][j-1]+myarray[i+1][j+1]+myarray[i+1][j-1]+myarray[i-1][j]+myarray[i-1][j+1]+myarray[i-1][j-1]>3) or (myarray[i][j] ==1 and myarray[i+1][j]+myarray[i][j+1]+myarray[i][j-1]+myarray[i+1][j+1]+myarray[i+1][j-1]+myarray[i-1][j]+myarray[i-1][j+1]+myarray[i-1][j-1]<2):\n",
    "                    myarray[i][j] = 0\n",
    "                    \n",
    "                if myarray[i][j] == 0 and myarray[i+1][j]+myarray[i][j+1]+myarray[i][j-1]+myarray[i+1][j+1]+myarray[i+1][j-1]+myarray[i-1][j]+myarray[i-1][j+1]+myarray[i-1][j-1] == 3:\n",
    "                    myarray[i][j] = 1\n",
    "                    \n",
    "                    \n",
    "\n",
    "plt.close()"
   ]
  },
  {
   "cell_type": "markdown",
   "metadata": {},
   "source": [
    "---\n",
    "\n",
    "### STOP\n",
    "Take a moment to save your notebook, commit the changes to your Git repository using the commit message \"Finished Part 3\", and push the changes to GitHub. You should also add a few representative images to your repository to show that your code works.\n",
    "\n",
    "---"
   ]
  },
  {
   "cell_type": "markdown",
   "metadata": {},
   "source": [
    "---\n",
    "## Assignment wrap-up\n",
    "\n",
    "Please fill out the form that appears when you run the code below.  **You must completely fill this out in order to receive credit for the assignment!**"
   ]
  },
  {
   "cell_type": "code",
   "execution_count": 63,
   "metadata": {},
   "outputs": [
    {
     "data": {
      "text/html": [
       "\n",
       "<iframe \n",
       "\tsrc=\"https://goo.gl/forms/rRqbVfls0YDFTONb2\" \n",
       "\twidth=\"80%\" \n",
       "\theight=\"1200px\" \n",
       "\tframeborder=\"0\" \n",
       "\tmarginheight=\"0\" \n",
       "\tmarginwidth=\"0\">\n",
       "\tLoading...\n",
       "</iframe>\n"
      ],
      "text/plain": [
       "<IPython.core.display.HTML object>"
      ]
     },
     "execution_count": 63,
     "metadata": {},
     "output_type": "execute_result"
    }
   ],
   "source": [
    "from IPython.display import HTML\n",
    "HTML(\n",
    "\"\"\"\n",
    "<iframe \n",
    "\tsrc=\"https://goo.gl/forms/rRqbVfls0YDFTONb2\" \n",
    "\twidth=\"80%\" \n",
    "\theight=\"1200px\" \n",
    "\tframeborder=\"0\" \n",
    "\tmarginheight=\"0\" \n",
    "\tmarginwidth=\"0\">\n",
    "\tLoading...\n",
    "</iframe>\n",
    "\"\"\"\n",
    ")"
   ]
  },
  {
   "cell_type": "markdown",
   "metadata": {},
   "source": [
    "### Congratulations, you're done!\n",
    "\n",
    "Submit this assignment by uploading it to the course Desire2Learn web page.  Go to the \"Homework Assignments\" folder, find the dropbox link for Homework #1, and upload it there."
   ]
  }
 ],
 "metadata": {
  "kernelspec": {
   "display_name": "Python 3",
   "language": "python",
   "name": "python3"
  },
  "language_info": {
   "codemirror_mode": {
    "name": "ipython",
    "version": 3
   },
   "file_extension": ".py",
   "mimetype": "text/x-python",
   "name": "python",
   "nbconvert_exporter": "python",
   "pygments_lexer": "ipython3",
   "version": "3.6.1"
  }
 },
 "nbformat": 4,
 "nbformat_minor": 2
}
